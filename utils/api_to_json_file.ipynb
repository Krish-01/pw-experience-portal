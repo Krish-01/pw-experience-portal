{
 "cells": [
  {
   "cell_type": "code",
   "execution_count": 1,
   "metadata": {},
   "outputs": [],
   "source": [
    "import requests\n",
    "import json"
   ]
  },
  {
   "cell_type": "markdown",
   "metadata": {},
   "source": [
    "## Fectching data from API\n",
    "\n",
    "Data of PW Skills Experience Portal which includes : \n",
    "1. Types of __technology__ used for project building.\n",
    "2. Different __domains__ in which the projects asociated.\n",
    "3. List of projects with its _Title, Description Link_."
   ]
  },
  {
   "cell_type": "code",
   "execution_count": 2,
   "metadata": {},
   "outputs": [],
   "source": [
    "techs = 'https://internship-api.pwskills.com/project/techs'\n",
    "domains = 'https://internship-api.pwskills.com/project/domains'\n",
    "projects = 'https://internship-api.pwskills.com/project'"
   ]
  },
  {
   "cell_type": "code",
   "execution_count": 3,
   "metadata": {},
   "outputs": [],
   "source": [
    "with open('../data/techs.json', 'w') as f:\n",
    "    res = requests.get(techs)\n",
    "    json.dump(res.json(), f, indent=4)"
   ]
  },
  {
   "cell_type": "code",
   "execution_count": 4,
   "metadata": {},
   "outputs": [],
   "source": [
    "with open('../data/domains.json', 'w') as f:\n",
    "    res = requests.get(domains)\n",
    "    json.dump(res.json(), f, indent=4)"
   ]
  },
  {
   "cell_type": "code",
   "execution_count": 5,
   "metadata": {},
   "outputs": [],
   "source": [
    "with open('../data/projects.json', 'w') as f:\n",
    "    res = requests.get(projects)\n",
    "    json.dump(res.json(), f, indent=4)"
   ]
  }
 ],
 "metadata": {
  "kernelspec": {
   "display_name": "Python 3.11.0 64-bit",
   "language": "python",
   "name": "python3"
  },
  "language_info": {
   "codemirror_mode": {
    "name": "ipython",
    "version": 3
   },
   "file_extension": ".py",
   "mimetype": "text/x-python",
   "name": "python",
   "nbconvert_exporter": "python",
   "pygments_lexer": "ipython3",
   "version": "3.11.0"
  },
  "orig_nbformat": 4,
  "vscode": {
   "interpreter": {
    "hash": "aee8b7b246df8f9039afb4144a1f6fd8d2ca17a180786b69acc140d282b71a49"
   }
  }
 },
 "nbformat": 4,
 "nbformat_minor": 2
}
