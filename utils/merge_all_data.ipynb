{
 "cells": [
  {
   "cell_type": "code",
   "execution_count": 20,
   "metadata": {},
   "outputs": [],
   "source": [
    "import json\n",
    "import pandas as pd"
   ]
  },
  {
   "cell_type": "markdown",
   "metadata": {},
   "source": [
    "# Prepare the dataframe from the json files"
   ]
  },
  {
   "cell_type": "code",
   "execution_count": 21,
   "metadata": {},
   "outputs": [
    {
     "name": "stdout",
     "output_type": "stream",
     "text": [
      "(14, 2)\n"
     ]
    }
   ],
   "source": [
    "with open('../data/techs.json') as f:\n",
    "    data = json.load(f)['data']\n",
    "\n",
    "    techs = (pd.DataFrame(data)\n",
    "             .drop(columns=['createdAt', 'updatedAt', '__v'])\n",
    "             .rename(columns={\n",
    "                 'title': 'techTitle',\n",
    "                 '_id': 'techId'\n",
    "             }))\n",
    "    print(techs.shape)"
   ]
  },
  {
   "cell_type": "code",
   "execution_count": 22,
   "metadata": {},
   "outputs": [
    {
     "data": {
      "text/html": [
       "<div>\n",
       "<style scoped>\n",
       "    .dataframe tbody tr th:only-of-type {\n",
       "        vertical-align: middle;\n",
       "    }\n",
       "\n",
       "    .dataframe tbody tr th {\n",
       "        vertical-align: top;\n",
       "    }\n",
       "\n",
       "    .dataframe thead th {\n",
       "        text-align: right;\n",
       "    }\n",
       "</style>\n",
       "<table border=\"1\" class=\"dataframe\">\n",
       "  <thead>\n",
       "    <tr style=\"text-align: right;\">\n",
       "      <th></th>\n",
       "      <th>techId</th>\n",
       "      <th>techTitle</th>\n",
       "    </tr>\n",
       "  </thead>\n",
       "  <tbody>\n",
       "    <tr>\n",
       "      <th>0</th>\n",
       "      <td>60fc4cd7c653fa3fc0c91839</td>\n",
       "      <td>Deep Learning</td>\n",
       "    </tr>\n",
       "    <tr>\n",
       "      <th>1</th>\n",
       "      <td>60fc4ce9c653fa3fc0c9183a</td>\n",
       "      <td>Machine Learning</td>\n",
       "    </tr>\n",
       "    <tr>\n",
       "      <th>2</th>\n",
       "      <td>60fc4cfbc653fa3fc0c9183b</td>\n",
       "      <td>Development</td>\n",
       "    </tr>\n",
       "    <tr>\n",
       "      <th>3</th>\n",
       "      <td>60fc6fc9b896f005c23cc1df</td>\n",
       "      <td>Computer Vision</td>\n",
       "    </tr>\n",
       "    <tr>\n",
       "      <th>4</th>\n",
       "      <td>60fc702cb896f005c23cc1e0</td>\n",
       "      <td>NLP</td>\n",
       "    </tr>\n",
       "  </tbody>\n",
       "</table>\n",
       "</div>"
      ],
      "text/plain": [
       "                     techId         techTitle\n",
       "0  60fc4cd7c653fa3fc0c91839     Deep Learning\n",
       "1  60fc4ce9c653fa3fc0c9183a  Machine Learning\n",
       "2  60fc4cfbc653fa3fc0c9183b       Development\n",
       "3  60fc6fc9b896f005c23cc1df   Computer Vision\n",
       "4  60fc702cb896f005c23cc1e0               NLP"
      ]
     },
     "execution_count": 22,
     "metadata": {},
     "output_type": "execute_result"
    }
   ],
   "source": [
    "techs.head()"
   ]
  },
  {
   "cell_type": "code",
   "execution_count": 23,
   "metadata": {},
   "outputs": [
    {
     "name": "stdout",
     "output_type": "stream",
     "text": [
      "(147, 3)\n"
     ]
    }
   ],
   "source": [
    "with open('../data/domains.json') as f:\n",
    "    data = json.load(f)['data']\n",
    "\n",
    "    domains = (pd.DataFrame(data)\n",
    "             .drop(columns=['createdAt', 'updatedAt', '__v'])\n",
    "             .rename(columns={\n",
    "                 'title': 'domainTitle',\n",
    "                 '_id': 'domainId'\n",
    "             }))\n",
    "    print(domains.shape)"
   ]
  },
  {
   "cell_type": "code",
   "execution_count": 24,
   "metadata": {},
   "outputs": [
    {
     "data": {
      "text/html": [
       "<div>\n",
       "<style scoped>\n",
       "    .dataframe tbody tr th:only-of-type {\n",
       "        vertical-align: middle;\n",
       "    }\n",
       "\n",
       "    .dataframe tbody tr th {\n",
       "        vertical-align: top;\n",
       "    }\n",
       "\n",
       "    .dataframe thead th {\n",
       "        text-align: right;\n",
       "    }\n",
       "</style>\n",
       "<table border=\"1\" class=\"dataframe\">\n",
       "  <thead>\n",
       "    <tr style=\"text-align: right;\">\n",
       "      <th></th>\n",
       "      <th>domainId</th>\n",
       "      <th>domainTitle</th>\n",
       "      <th>techId</th>\n",
       "    </tr>\n",
       "  </thead>\n",
       "  <tbody>\n",
       "    <tr>\n",
       "      <th>0</th>\n",
       "      <td>60fc4dfb800c562a083bc616</td>\n",
       "      <td>Traffic Surveillance</td>\n",
       "      <td>60fc4cd7c653fa3fc0c91839</td>\n",
       "    </tr>\n",
       "    <tr>\n",
       "      <th>1</th>\n",
       "      <td>60fc4dfb800c562a083bc618</td>\n",
       "      <td>Warehouse</td>\n",
       "      <td>60fc4cd7c653fa3fc0c91839</td>\n",
       "    </tr>\n",
       "    <tr>\n",
       "      <th>2</th>\n",
       "      <td>60fc4dfb800c562a083bc619</td>\n",
       "      <td>Banking</td>\n",
       "      <td>60fc4cd7c653fa3fc0c91839</td>\n",
       "    </tr>\n",
       "    <tr>\n",
       "      <th>3</th>\n",
       "      <td>60fc4dfb800c562a083bc61a</td>\n",
       "      <td>Finance</td>\n",
       "      <td>60fc4cd7c653fa3fc0c91839</td>\n",
       "    </tr>\n",
       "    <tr>\n",
       "      <th>4</th>\n",
       "      <td>60fc4dfb800c562a083bc61c</td>\n",
       "      <td>Insurance</td>\n",
       "      <td>60fc4cd7c653fa3fc0c91839</td>\n",
       "    </tr>\n",
       "  </tbody>\n",
       "</table>\n",
       "</div>"
      ],
      "text/plain": [
       "                   domainId           domainTitle                    techId\n",
       "0  60fc4dfb800c562a083bc616  Traffic Surveillance  60fc4cd7c653fa3fc0c91839\n",
       "1  60fc4dfb800c562a083bc618             Warehouse  60fc4cd7c653fa3fc0c91839\n",
       "2  60fc4dfb800c562a083bc619               Banking  60fc4cd7c653fa3fc0c91839\n",
       "3  60fc4dfb800c562a083bc61a               Finance  60fc4cd7c653fa3fc0c91839\n",
       "4  60fc4dfb800c562a083bc61c             Insurance  60fc4cd7c653fa3fc0c91839"
      ]
     },
     "execution_count": 24,
     "metadata": {},
     "output_type": "execute_result"
    }
   ],
   "source": [
    "domains.head()"
   ]
  },
  {
   "cell_type": "code",
   "execution_count": 25,
   "metadata": {},
   "outputs": [
    {
     "name": "stdout",
     "output_type": "stream",
     "text": [
      "(430, 5)\n"
     ]
    }
   ],
   "source": [
    "with open('../data/projects.json') as f:\n",
    "    data = json.load(f)['data']\n",
    "\n",
    "    projects = (pd.DataFrame(data)\n",
    "             .drop(columns=['createdAt', 'updatedAt', '__v'])\n",
    "             .rename(columns={\n",
    "                 'title': 'projectTitle',\n",
    "                 '_id': 'projectId'\n",
    "             }))\n",
    "    print(projects.shape)"
   ]
  },
  {
   "cell_type": "code",
   "execution_count": 26,
   "metadata": {},
   "outputs": [
    {
     "data": {
      "text/html": [
       "<div>\n",
       "<style scoped>\n",
       "    .dataframe tbody tr th:only-of-type {\n",
       "        vertical-align: middle;\n",
       "    }\n",
       "\n",
       "    .dataframe tbody tr th {\n",
       "        vertical-align: top;\n",
       "    }\n",
       "\n",
       "    .dataframe thead th {\n",
       "        text-align: right;\n",
       "    }\n",
       "</style>\n",
       "<table border=\"1\" class=\"dataframe\">\n",
       "  <thead>\n",
       "    <tr style=\"text-align: right;\">\n",
       "      <th></th>\n",
       "      <th>projectId</th>\n",
       "      <th>projectTitle</th>\n",
       "      <th>domainId</th>\n",
       "      <th>link</th>\n",
       "      <th>difficulty</th>\n",
       "    </tr>\n",
       "  </thead>\n",
       "  <tbody>\n",
       "    <tr>\n",
       "      <th>0</th>\n",
       "      <td>60fc506dd4f27b1e4492fb94</td>\n",
       "      <td>Human Action Recognition</td>\n",
       "      <td>60fc4dfb800c562a083bc617</td>\n",
       "      <td>https://drive.google.com/file/d/1vnq-YmAsd5vMF...</td>\n",
       "      <td>intermediate</td>\n",
       "    </tr>\n",
       "    <tr>\n",
       "      <th>1</th>\n",
       "      <td>60fc506dd4f27b1e4492fb96</td>\n",
       "      <td>Banking Documentation Validation and account c...</td>\n",
       "      <td>60fc4dfb800c562a083bc619</td>\n",
       "      <td>https://drive.google.com/file/d/1ootwYU6rKfqUq...</td>\n",
       "      <td>intermediate</td>\n",
       "    </tr>\n",
       "    <tr>\n",
       "      <th>2</th>\n",
       "      <td>60fc506dd4f27b1e4492fb98</td>\n",
       "      <td>Vehicle Number Plate Detection</td>\n",
       "      <td>60fc4dfb800c562a083bc616</td>\n",
       "      <td>https://drive.google.com/file/d/193mAf7R2yxycT...</td>\n",
       "      <td>intermediate</td>\n",
       "    </tr>\n",
       "    <tr>\n",
       "      <th>3</th>\n",
       "      <td>60fc506dd4f27b1e4492fb9a</td>\n",
       "      <td>Credit risk analysis for an individual customer</td>\n",
       "      <td>60fc4dfb800c562a083bc61a</td>\n",
       "      <td>https://drive.google.com/file/d/17xMth8SfWM3g6...</td>\n",
       "      <td>intermediate</td>\n",
       "    </tr>\n",
       "    <tr>\n",
       "      <th>4</th>\n",
       "      <td>60fc506dd4f27b1e4492fb9c</td>\n",
       "      <td>Traffic Jam Detection</td>\n",
       "      <td>60fc4dfb800c562a083bc61b</td>\n",
       "      <td>https://drive.google.com/file/d/1tDyX0SMPK_aMt...</td>\n",
       "      <td>intermediate</td>\n",
       "    </tr>\n",
       "  </tbody>\n",
       "</table>\n",
       "</div>"
      ],
      "text/plain": [
       "                  projectId  \\\n",
       "0  60fc506dd4f27b1e4492fb94   \n",
       "1  60fc506dd4f27b1e4492fb96   \n",
       "2  60fc506dd4f27b1e4492fb98   \n",
       "3  60fc506dd4f27b1e4492fb9a   \n",
       "4  60fc506dd4f27b1e4492fb9c   \n",
       "\n",
       "                                        projectTitle  \\\n",
       "0                           Human Action Recognition   \n",
       "1  Banking Documentation Validation and account c...   \n",
       "2                     Vehicle Number Plate Detection   \n",
       "3    Credit risk analysis for an individual customer   \n",
       "4                              Traffic Jam Detection   \n",
       "\n",
       "                   domainId  \\\n",
       "0  60fc4dfb800c562a083bc617   \n",
       "1  60fc4dfb800c562a083bc619   \n",
       "2  60fc4dfb800c562a083bc616   \n",
       "3  60fc4dfb800c562a083bc61a   \n",
       "4  60fc4dfb800c562a083bc61b   \n",
       "\n",
       "                                                link    difficulty  \n",
       "0  https://drive.google.com/file/d/1vnq-YmAsd5vMF...  intermediate  \n",
       "1  https://drive.google.com/file/d/1ootwYU6rKfqUq...  intermediate  \n",
       "2  https://drive.google.com/file/d/193mAf7R2yxycT...  intermediate  \n",
       "3  https://drive.google.com/file/d/17xMth8SfWM3g6...  intermediate  \n",
       "4  https://drive.google.com/file/d/1tDyX0SMPK_aMt...  intermediate  "
      ]
     },
     "execution_count": 26,
     "metadata": {},
     "output_type": "execute_result"
    }
   ],
   "source": [
    "projects.head()"
   ]
  },
  {
   "cell_type": "markdown",
   "metadata": {},
   "source": [
    "# Observations :\n",
    "\n",
    "1. Each DataFrame's row contains its own unique `_id`.\n",
    "2. These df are linked by `_id` of different rows of different dfs.\n",
    "    > projects > domains > techs\n",
    "3. Need to `merge` all the dfs by corresponding `_id` column of dfs."
   ]
  },
  {
   "cell_type": "code",
   "execution_count": 27,
   "metadata": {},
   "outputs": [],
   "source": [
    "final_df = (techs.merge(domains, on='techId')\n",
    "                 .merge(projects, on='domainId'))"
   ]
  },
  {
   "cell_type": "code",
   "execution_count": 28,
   "metadata": {},
   "outputs": [],
   "source": [
    "# Export the final_df > csv file\n",
    "final_df.to_csv('../data/final_df.csv', index=False)"
   ]
  }
 ],
 "metadata": {
  "kernelspec": {
   "display_name": "Python 3.11.0 64-bit",
   "language": "python",
   "name": "python3"
  },
  "language_info": {
   "codemirror_mode": {
    "name": "ipython",
    "version": 3
   },
   "file_extension": ".py",
   "mimetype": "text/x-python",
   "name": "python",
   "nbconvert_exporter": "python",
   "pygments_lexer": "ipython3",
   "version": "3.11.0"
  },
  "orig_nbformat": 4,
  "vscode": {
   "interpreter": {
    "hash": "aee8b7b246df8f9039afb4144a1f6fd8d2ca17a180786b69acc140d282b71a49"
   }
  }
 },
 "nbformat": 4,
 "nbformat_minor": 2
}
